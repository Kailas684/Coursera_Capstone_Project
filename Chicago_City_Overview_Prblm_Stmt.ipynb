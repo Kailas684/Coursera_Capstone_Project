{
    "cells": [
        {
            "metadata": {
                "collapsed": true
            },
            "cell_type": "markdown",
            "source": "\n### Capstone Project - The Battle of Neighbourhoods\n\n\n\n#### Introduction / Business Problem\n\n\n##### About Chicago, what are best visited places? which community area safer to live and what are top 10 venue in each community area. \n\nI am from Chicago and always Chicago Visitors or Friends ask me which are top 5 most visited places. Or people who would like to move or moved to Chicago ask which area is better in terms of venues around or more secure (fewer crimes). It will be good if using multiple dataset a nice presentation or visuals can be made out for Chicago community area (Cook county).\n\n"
        },
        {
            "metadata": {},
            "cell_type": "code",
            "source": "",
            "execution_count": null,
            "outputs": []
        }
    ],
    "metadata": {
        "kernelspec": {
            "name": "python3",
            "display_name": "Python 3.6",
            "language": "python"
        },
        "language_info": {
            "name": "python",
            "version": "3.6.8",
            "mimetype": "text/x-python",
            "codemirror_mode": {
                "name": "ipython",
                "version": 3
            },
            "pygments_lexer": "ipython3",
            "nbconvert_exporter": "python",
            "file_extension": ".py"
        }
    },
    "nbformat": 4,
    "nbformat_minor": 1
}