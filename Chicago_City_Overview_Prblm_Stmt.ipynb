{
    "cells": [
        {
            "metadata": {
                "collapsed": true
            },
            "cell_type": "markdown",
            "source": "\n### Capstone Project - The Battle of Neighbourhoods\n\n\n\n#### Introduction / Business Problem\n\nI am from Chicago and always Chicago Visitors or Friends ask me which are top 5 most visited places. Or people who would like to move or moved to Chicago ask which area is better in terms of venues around or more secure (fewer crimes). It will be good if using multiple datasets a nice presentation or visuals can be made out for Chicago community area (Cook county).\n\n##### About Chicago\n##### (1) Chicago is very famous, beautiful and most visited city in North America. A high level overview of 77 community area will help visitors and residents to get familiar with City and plan for their stay or visit based on which spots they would like to visit and same time comparatively it is safer place to live.\n<br>\n##### (2)  There are 77 Community Areas in Chicago city and all of them with very popular venues. There are many famous restaurant, broadways, activity centers and parks. Residents who lived for many years still have no clear suggestion on which neighborhoods famous for particular type of spots and most visited places within each community area. Using API to get each venue rating and comments it will be helpful to suggest top 5 venue in each community area which resident should visit once. \n<br>\n#####  (3)  There are millions of visitors coming to chicago and tours & venues are overwhelming to complete even on long weekends. Visitors are always confused with which to spots to cover and which to skip based on other visitors experience. There are many sites which capture  venue related rating or comments. It will be great idea if using one of such API site to get top 5 most visited places? \n<br>\n##### (4)  There are approximately 10 people are shots, more than 50 people witness crime everyday. Buying a property or renting place will be minimum 1 year commitment. When it comes to buying or renting, safety comes on top and it is very important if using existing crime data each community area is assessed. Using existing crime data, if top 5 crimes each area identified plus based on all crime, each community area is ranked. \n\n"
        },
        {
            "metadata": {},
            "cell_type": "code",
            "source": "",
            "execution_count": null,
            "outputs": []
        }
    ],
    "metadata": {
        "kernelspec": {
            "name": "python3",
            "display_name": "Python 3.6",
            "language": "python"
        },
        "language_info": {
            "name": "python",
            "version": "3.6.8",
            "mimetype": "text/x-python",
            "codemirror_mode": {
                "name": "ipython",
                "version": 3
            },
            "pygments_lexer": "ipython3",
            "nbconvert_exporter": "python",
            "file_extension": ".py"
        }
    },
    "nbformat": 4,
    "nbformat_minor": 1
}