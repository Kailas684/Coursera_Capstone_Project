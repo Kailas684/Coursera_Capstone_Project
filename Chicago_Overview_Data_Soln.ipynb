{
    "cells": [
        {
            "cell_type": "markdown",
            "metadata": {
                "collapsed": true
            },
            "source": "\n## Capstone Project - The Battle of Neighbourhoods\n\n### Data Solution\n\n<br>\nChicago City has maintained multiple datasets of different topics. It will be beneficial source of data to do further analysis and  find out most visited places (Foursquare likes or comments) and for Community to find residence or living getting venue data (Foursquare)  and analyze crime data (last 5 years) per community to check which community area is safer.\n<br> <br>\n\nExplore Chicago city to help residents or tourist know about below important data/information. <br>\nData requirement: <br>\n(1) Chicago Community overview (Cook County). <br>\n(2) Chicago Best spot 5 for residents to hand out per area. <br>\n(3) Chicago Best top 5 spot not to miss for Tourist. <br>\n(4) Chicago most Safe Community area ranking using Crime data. <br>\n"
        },
        {
            "cell_type": "code",
            "execution_count": null,
            "metadata": {},
            "outputs": [],
            "source": ""
        }
    ],
    "metadata": {
        "kernelspec": {
            "display_name": "Python 3.6",
            "language": "python",
            "name": "python3"
        },
        "language_info": {
            "codemirror_mode": {
                "name": "ipython",
                "version": 3
            },
            "file_extension": ".py",
            "mimetype": "text/x-python",
            "name": "python",
            "nbconvert_exporter": "python",
            "pygments_lexer": "ipython3",
            "version": "3.6.8"
        }
    },
    "nbformat": 4,
    "nbformat_minor": 1
}