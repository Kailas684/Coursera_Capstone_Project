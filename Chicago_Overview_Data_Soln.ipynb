{
    "cells": [
        {
            "metadata": {
                "collapsed": true
            },
            "cell_type": "markdown",
            "source": "\n## Capstone Project - The Battle of Neighbourhoods\n\n### Part2) Data Solution\n\n<br>\nChicago City has maintained multiple datasets of different topics. It will be beneficial source of data to do further analysis and  find out most visited places (Foursquare likes or comments) and for Community to find residence or living getting venue data (Foursquare)  and analyze crime data (last 5 years) per community to check which community area is safer.\n<br> <br>\n\nExplore Chicago city to help residents or tourist know about below important data/information. <br>\nData requirement: <br>\n(1) Chicago Community overview (Cook County). <br>\n(2) Chicago Best spot 5 for residents to hang out per community area. <br>\n(3) Chicago Best top 5 spot not to miss for Tourist. <br>\n(4) Chicago most Safe Community area ranking using Crime data. <br>\n\n\nHow to Solve?\n\n(1) Go to wiki page about Chicago Community Areas https://en.wikipedia.org/wiki/Community_areas_in_Chicago\nTo get Community Area and neighbourhoods, it requires complex code to web craping and combining into single dataframe.\nUsing Beautifulsoup4 these multiple tables on wiki page will be fetched and pushed on pandas dataframe.\n\nChicago city portal share longitute and lattitude dataset for all areas. Download spacial details from https://data.cityofchicago.org/Facilities-Geographic-Boundaries/Boundaries-Community-Areas-current-/cauq-8yn6\nand connect with above dataset.\n\n(2) Using foursquare developer account get top 5 best spots around each neighbourhood. (using k-means clustering)\n\n(3) Using foursquare developer count find out places which are top 5 rated or with most comments. (using k-means clustering)\n\n(4) Download Chicago Crime rate data from kaggle, for 2012 to 2017 : https://www.kaggle.com/currie32/crimes-in-chicago\n    based on crime types and count rate the neighbourhoods and share top 5 safe community area to live for. (using k-means clustering)\n    "
        },
        {
            "metadata": {},
            "cell_type": "code",
            "source": "",
            "execution_count": null,
            "outputs": []
        }
    ],
    "metadata": {
        "kernelspec": {
            "name": "python3",
            "display_name": "Python 3.6",
            "language": "python"
        },
        "language_info": {
            "name": "python",
            "version": "3.6.8",
            "mimetype": "text/x-python",
            "codemirror_mode": {
                "name": "ipython",
                "version": 3
            },
            "pygments_lexer": "ipython3",
            "nbconvert_exporter": "python",
            "file_extension": ".py"
        }
    },
    "nbformat": 4,
    "nbformat_minor": 1
}